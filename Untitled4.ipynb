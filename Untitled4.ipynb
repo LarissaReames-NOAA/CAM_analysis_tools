{
 "cells": [
  {
   "cell_type": "code",
   "execution_count": 1,
   "id": "1df19d1f",
   "metadata": {},
   "outputs": [],
   "source": [
    "%load_ext autoreload\n",
    "%autoreload 2"
   ]
  },
  {
   "cell_type": "code",
   "execution_count": 15,
   "id": "1a64f1cd",
   "metadata": {},
   "outputs": [],
   "source": [
    "import numpy as np\n",
    "import netCDF4 as nc\n",
    "import glob\n",
    "import matplotlib\n",
    "import matplotlib.pyplot as plt\n",
    "import matplotlib.backends.backend_pdf\n",
    "import warnings\n",
    "import multiprocessing\n",
    "import ctypes as c\n",
    "from datetime import datetime, time, timedelta\n",
    "from scipy.interpolate import interp1d\n",
    "from optparse import OptionParser\n",
    "from tqdm import tnrange, notebook\n",
    "from time import sleep\n",
    "import xarray as xr\n",
    "from contextlib import contextmanager\n",
    "from scipy.spatial import cKDTree\n",
    "from functools import partial\n",
    "import time\n",
    "import os\n",
    "import cartopy.crs as ccrs\n",
    "import cartopy.feature as cfeature\n",
    "from skimage.measure import label as sklabel\n",
    "from findiff import FinDiff, Laplacian\n",
    "grav = 9.806\n",
    "Cp   = 1004.\n",
    "Rgas = 287.058"
   ]
  },
  {
   "cell_type": "code",
   "execution_count": 17,
   "id": "45b73b71",
   "metadata": {},
   "outputs": [
    {
     "name": "stdout",
     "output_type": "stream",
     "text": [
      "[-4.9390793e-02 -2.6438713e-02  6.6471100e-04 -3.0517578e-03\n",
      " -1.8720627e-03 -1.2626648e-03 -9.1171265e-04 -6.8569183e-04\n",
      " -5.4836273e-04 -4.3392181e-04 -3.6239624e-04 -2.9373169e-04\n",
      " -2.3746490e-04 -1.9073486e-04 -3.9863586e-04 -4.9257278e-04\n",
      " -4.6253204e-05  1.5783310e-04  1.2683868e-04  1.6069412e-04\n",
      "  1.6450882e-04  2.8657913e-04  2.3746490e-04  3.0279160e-04\n",
      "  3.4284592e-04  4.0721893e-04  4.8518181e-04  4.6300888e-04\n",
      "  6.6018105e-04  3.4117699e-04  6.1774254e-04  4.0102005e-04\n",
      "  9.0694427e-04  1.5735626e-04 -2.7132034e-04  5.0044060e-04\n",
      " -4.3630600e-05  3.6704540e-04  7.4148178e-05  5.5265427e-04\n",
      "  2.2876263e-04  7.0726871e-04  3.2687187e-04  7.9631805e-04\n",
      "  3.6132336e-04  8.3339214e-04  3.5512447e-04  8.2987547e-04\n",
      "  3.1435490e-04  7.9667568e-04  3.1167269e-04  9.0986490e-04\n",
      "  3.5244226e-04  9.0125203e-04  1.7577410e-04  9.1451406e-04\n",
      " -2.2080541e-04  7.7058002e-04 -5.4332707e-04  1.7319694e-03]\n",
      "[ 7.77663755e-21 -1.67689220e-20 -2.74471736e-19 -4.46543838e-19\n",
      "  1.42015279e-19  3.96789751e-19  8.37780002e-19  1.01878780e-18\n",
      " -1.66506949e-18  9.45146908e-20  4.25082616e-18 -2.74138243e-18\n",
      " -4.33927617e-18  1.97493879e-18  1.51761111e-18  1.38461908e-20\n",
      "  2.07684708e-19  7.23795754e-19  1.64027372e-18  4.68361285e-18\n",
      "  9.01393106e-18  1.27884844e-17 -8.16365722e-18 -9.73006930e-18\n",
      "  2.02981917e-17 -5.62594238e-18 -2.11203166e-17 -3.46588883e-18\n",
      "  6.36060325e-19  1.01416479e-20  3.95738136e-18 -3.59743396e-17\n",
      " -2.24788515e-16  1.07594559e-17  2.41423978e-16 -9.01935737e-18\n",
      "  8.45551169e-17 -5.10092671e-18  8.36117058e-18  1.34939355e-17\n",
      " -1.24457074e-17 -2.63513232e-18  5.51441568e-18 -4.11947815e-18\n",
      " -5.13374303e-18 -1.11249291e-17  2.56325570e-18  1.32070767e-17\n",
      "  2.29369326e-18 -4.84853901e-18 -5.24402647e-18  1.52784858e-17\n",
      " -6.45510822e-18 -2.06299788e-17  1.96536095e-17 -1.68819291e-18\n",
      " -2.36511286e-18  9.39706838e-20 -2.25787344e-18 -1.22748666e-19]\n"
     ]
    }
   ],
   "source": [
    "file_base = '/scratch/larissa.reames/ideal_updrafts/FV3_bubble_5K'\n",
    "filef = 'woffv3_d01_2019-05-20_22:08:00.nc'\n",
    "file = '%s/%s'%(file_base,filef)\n",
    "\n",
    "t = 0\n",
    "f = xr.open_dataset(file ,engine='netcdf4')\n",
    "pres = np.array(f.P[t,:]+f.PB[t,:])\n",
    "pii =  Cp * 300. * (pres/100000.)**(Rgas/Cp)\n",
    "nz,ny,nx = np.shape(pres)\n",
    "w = f.W[t,:]\n",
    "u = f.U[t,:]\n",
    "v = f.V[t,:]\n",
    "cref = np.nanmax(f.REFL_10CM[t,:],axis=0)\n",
    "temp = np.array(f.T[t,:]+300.0)\n",
    "z = np.array((f.PH[t,:]+f.PHB[t,:])/9.806 - f.HGT[t,:])\n",
    "x = np.arange(150.,257*150.,300.)\n",
    "y = np.arange(150.,257*150.,300.)\n",
    "ddz=FinDiff(0,z[:,127,127],acc=4)\n",
    "ddx=FinDiff(2,x,acc=4)\n",
    "ddy=FinDiff(1,y,acc=4)\n",
    "dwdx=ddx(w)[:,127,127]\n",
    "dwdy=ddy(w)[:,127,127]\n",
    "#dwdz=ddz(w)[:,127,127]\n",
    "dvdz=ddz(v)[:,127,127]\n",
    "dudz=ddz(u)[:,127,127]\n",
    "\n",
    "#ddz2=FinDiff(0,z,2,acc=4)\n",
    "#ddx2=FinDiff(2,x,2,acc=4)\n",
    "#ddy2=FinDiff(1,y,2,acc=4)\n",
    "#dpdz2=ddz2(pres)[:,127,127]\n",
    "#dpdy2=ddx2(pres)[:,127,127]\n",
    "#dpdx2=ddy2(pres)[:,127,127]\n",
    "laplace = Laplacian(h=[z[:,127,127],y,x])\n",
    "\n",
    "LHS = laplace(pii)[:,127,127]\n",
    "RHS = -2. * (dwdx * dudz + dwdy * dvdz)\n",
    "\n",
    "print(LHS)\n",
    "print(RHS)\n"
   ]
  },
  {
   "cell_type": "code",
   "execution_count": null,
   "id": "1b369fa0",
   "metadata": {},
   "outputs": [],
   "source": []
  }
 ],
 "metadata": {
  "kernelspec": {
   "display_name": "Python 3 (ipykernel)",
   "language": "python",
   "name": "python3"
  },
  "language_info": {
   "codemirror_mode": {
    "name": "ipython",
    "version": 3
   },
   "file_extension": ".py",
   "mimetype": "text/x-python",
   "name": "python",
   "nbconvert_exporter": "python",
   "pygments_lexer": "ipython3",
   "version": "3.8.10"
  }
 },
 "nbformat": 4,
 "nbformat_minor": 5
}
