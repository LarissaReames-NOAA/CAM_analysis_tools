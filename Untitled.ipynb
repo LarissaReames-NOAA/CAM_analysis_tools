{
 "cells": [
  {
   "cell_type": "code",
   "execution_count": null,
   "id": "d9bcea47",
   "metadata": {},
   "outputs": [],
   "source": [
    "import numpy as np\n",
    "import netCDF4 as nc\n",
    "import glob\n",
    "import warnings\n",
    "import multiprocessing\n",
    "import ctypes as c\n",
    "from datetime import datetime, time, timedelta\n",
    "from scipy.interpolate import interp1d\n",
    "from optparse import OptionParser\n",
    "from tqdm import tnrange, notebook\n",
    "from time import sleep\n",
    "import xarray as xr\n",
    "from contextlib import contextmanager\n",
    "from scipy.spatial import cKDTree\n",
    "from functools import partial\n",
    "import time\n",
    "import os"
   ]
  },
  {
   "cell_type": "code",
   "execution_count": null,
   "id": "783c82df",
   "metadata": {},
   "outputs": [],
   "source": [
    "###### SET FILE NAMES AND CONSTANTS ######\n",
    "date = \"2021090100\"\n",
    "utc = 18  # Initailization Time\n",
    "ng = 3  # Number of groups to compare (e.g., WRF & FV3)\n",
    "ne = 1  # Number of ensemble members in each group of files\n",
    "fstart = 18  # Forecast time start\n",
    "fend = 23    # Forecast time end\n",
    "nf = fend - fstart + 1\n",
    "group_names = ('HRRR', 'CTRL', 'NORD3')  # Name of the groups to compare\n",
    "top_dir = \"/work/larissa.reames\"\n",
    "case_dir = \"%s/%s\"%(top_dir,date)\n",
    "\n",
    "#filter_file_names = ''\n",
    "#updraft_file_name = ''\n",
    "#fcst_type = 0\n",
    "ens = 0"
   ]
  },
  {
   "cell_type": "code",
   "execution_count": null,
   "id": "676ad335",
   "metadata": {},
   "outputs": [],
   "source": [
    "fobj = xr.open_dataset(updraft_file_name)\n",
    "obj_x = fobj.OBJ_LOCS_X[fcst_type,ens,:,:,:,:] #time,thresh,obj,obj-point\n",
    "obj_y = fobj.OBJ_LOCS_Y[fcst_type,ens,:,:,:,:]\n",
    "\n",
    "for g in np.arange(ng):\n",
    "    print(\"Begin reading in data for group %s\" % group_names[g])\n",
    "    stream = os.popen(\"seq -f \"+case_dir+\"/\"+group_names[g].lower()+\"/region_\"+date+\"_F%02g.nc\"+\" %02d %02d\"%(fstart,fend))\n",
    "    fs = []\n",
    "    for line in stream.readlines() :\n",
    "        fs.append(line.strip())\n",
    "    fs.sort()\n",
    "    print(fs)\n",
    "    for n,fname in enumerate(filter_file_names): \n",
    "        f = xr.open_dataset(fname)\n",
    "        w = f.W\n",
    "        nz,-,- = np.shape(w)\n",
    "        if (n == 0): w_objs = np.full((ng,nth,nf,100,nz),np.nan)\n",
    "        obj_x_cur = obj_x[n,...]\n",
    "        nobj = np.count_nonzero(obj_x_cur[:,0])\n",
    "\n",
    "        for t in np.arange(3):\n",
    "            for i in np.arange(nobj):\n",
    "                obj_size = np.count_nonzero(obj_x_cur[i,:])\n",
    "                w_cur = np.full(nz,0.0)\n",
    "                for p in np.arange(obj_size):\n",
    "                    w_cur = w_cur+ w[:,obj_y_cur[i,p],obj_x_cur[i,p]]\n",
    "                w_objs[t,n,i,:] = w_cur/obj_size\n",
    "\n",
    "            w_mean = np.nanmean(w_objs,axis=2)"
   ]
  },
  {
   "cell_type": "code",
   "execution_count": null,
   "id": "6d802a7f",
   "metadata": {},
   "outputs": [],
   "source": [
    "outfilename = (\"%s/%s_filter_track_data.nc\"%(case_dir,date))\n",
    "\n",
    "new = xr.DataArray( w_mean, dims=['group','time','th','nz'], \n",
    "                 coords={\"groups\": ([\"group\"], np.arange(ng)),\n",
    "                         \"threshes\": ([\"th\"], thresh),\n",
    "                         \"times\": ([\"time\"], time_list),\n",
    "                         \"height\": ([\"nz\"], z_interp) })  \n",
    "ds_conus = new.to_dataset(name = 'OBJ_W')\n",
    "\n",
    "ds_conus.attrs['date']       = date\n",
    "ds_conus.attrs['gridType']   = 'conus'\n",
    "ds_conus.attrs['DateTime']   = datetime.now().strftime(\"%Y%m%d_%H:%M:%S\")\n",
    "ds_conus.attrs['TimeStamp']  = datetime.timestamp(datetime.now())\n",
    "\n",
    "ds_conus.to_netcdf(outfilename, mode='w') "
   ]
  }
 ],
 "metadata": {
  "kernelspec": {
   "display_name": "Python 3 (ipykernel)",
   "language": "python",
   "name": "python3"
  },
  "language_info": {
   "codemirror_mode": {
    "name": "ipython",
    "version": 3
   },
   "file_extension": ".py",
   "mimetype": "text/x-python",
   "name": "python",
   "nbconvert_exporter": "python",
   "pygments_lexer": "ipython3",
   "version": "3.8.10"
  }
 },
 "nbformat": 4,
 "nbformat_minor": 5
}
